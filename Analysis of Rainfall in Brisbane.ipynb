{
 "cells": [
  {
   "cell_type": "markdown",
   "metadata": {},
   "source": [
    "## Analysis of Rainfall in Brisbane - Australia\n",
    "\n",
    "#### Source: [BOM Climate Data Online](http://www.bom.gov.au/climate/data/index.shtml?bookmark=136)\n",
    "---"
   ]
  },
  {
   "cell_type": "code",
   "execution_count": 1,
   "metadata": {},
   "outputs": [],
   "source": [
    "# import libraries for this question here\n",
    "import pandas as pd\n",
    "import numpy as np\n",
    "import matplotlib.pyplot as plt\n",
    "import seaborn as sns\n",
    "\n",
    "import warnings\n",
    "warnings.filterwarnings(\"ignore\")"
   ]
  },
  {
   "cell_type": "markdown",
   "metadata": {},
   "source": [
    "### 1. Objetive"
   ]
  },
  {
   "cell_type": "markdown",
   "metadata": {},
   "source": [
    "The objective is to analyse the rainfall in Brisbane and compare with another Australian city. First, the analysis will try to identify significant periods of rainfall time in Brisbane to contrast with another Australian city from 2019 to 2021."
   ]
  },
  {
   "cell_type": "markdown",
   "metadata": {},
   "source": [
    "### 2. Data"
   ]
  },
  {
   "cell_type": "code",
   "execution_count": 2,
   "metadata": {},
   "outputs": [
    {
     "data": {
      "text/html": [
       "<div>\n",
       "<style scoped>\n",
       "    .dataframe tbody tr th:only-of-type {\n",
       "        vertical-align: middle;\n",
       "    }\n",
       "\n",
       "    .dataframe tbody tr th {\n",
       "        vertical-align: top;\n",
       "    }\n",
       "\n",
       "    .dataframe thead th {\n",
       "        text-align: right;\n",
       "    }\n",
       "</style>\n",
       "<table border=\"1\" class=\"dataframe\">\n",
       "  <thead>\n",
       "    <tr style=\"text-align: right;\">\n",
       "      <th></th>\n",
       "      <th>Product code</th>\n",
       "      <th>Bureau of Meteorology station number</th>\n",
       "      <th>Year</th>\n",
       "      <th>Month</th>\n",
       "      <th>Day</th>\n",
       "      <th>Rainfall amount (millimetres)</th>\n",
       "      <th>Period over which rainfall was measured (days)</th>\n",
       "      <th>Quality</th>\n",
       "    </tr>\n",
       "  </thead>\n",
       "  <tbody>\n",
       "    <tr>\n",
       "      <th>0</th>\n",
       "      <td>IDCJAC0009</td>\n",
       "      <td>40913</td>\n",
       "      <td>1999</td>\n",
       "      <td>1</td>\n",
       "      <td>1</td>\n",
       "      <td>NaN</td>\n",
       "      <td>NaN</td>\n",
       "      <td>NaN</td>\n",
       "    </tr>\n",
       "    <tr>\n",
       "      <th>1</th>\n",
       "      <td>IDCJAC0009</td>\n",
       "      <td>40913</td>\n",
       "      <td>1999</td>\n",
       "      <td>1</td>\n",
       "      <td>2</td>\n",
       "      <td>NaN</td>\n",
       "      <td>NaN</td>\n",
       "      <td>NaN</td>\n",
       "    </tr>\n",
       "    <tr>\n",
       "      <th>2</th>\n",
       "      <td>IDCJAC0009</td>\n",
       "      <td>40913</td>\n",
       "      <td>1999</td>\n",
       "      <td>1</td>\n",
       "      <td>3</td>\n",
       "      <td>NaN</td>\n",
       "      <td>NaN</td>\n",
       "      <td>NaN</td>\n",
       "    </tr>\n",
       "  </tbody>\n",
       "</table>\n",
       "</div>"
      ],
      "text/plain": [
       "  Product code  Bureau of Meteorology station number  Year  Month  Day  \\\n",
       "0   IDCJAC0009                                 40913  1999      1    1   \n",
       "1   IDCJAC0009                                 40913  1999      1    2   \n",
       "2   IDCJAC0009                                 40913  1999      1    3   \n",
       "\n",
       "   Rainfall amount (millimetres)  \\\n",
       "0                            NaN   \n",
       "1                            NaN   \n",
       "2                            NaN   \n",
       "\n",
       "   Period over which rainfall was measured (days) Quality  \n",
       "0                                             NaN     NaN  \n",
       "1                                             NaN     NaN  \n",
       "2                                             NaN     NaN  "
      ]
     },
     "execution_count": 2,
     "metadata": {},
     "output_type": "execute_result"
    }
   ],
   "source": [
    "# Import the data\n",
    "data = pd.read_csv('Brisbane_Data.csv', )\n",
    "data.head(3)\n"
   ]
  },
  {
   "cell_type": "code",
   "execution_count": 3,
   "metadata": {},
   "outputs": [
    {
     "data": {
      "text/plain": [
       "array([1999, 2000, 2001, 2002, 2003, 2004, 2005, 2006, 2007, 2008, 2009,\n",
       "       2010, 2011, 2012, 2013, 2014, 2015, 2016, 2017, 2018, 2019, 2020,\n",
       "       2021, 2022], dtype=int64)"
      ]
     },
     "execution_count": 3,
     "metadata": {},
     "output_type": "execute_result"
    }
   ],
   "source": [
    "# look the time period in years\n",
    "data['Year'].unique()\n"
   ]
  },
  {
   "cell_type": "markdown",
   "metadata": {
    "tags": []
   },
   "source": [
    "**Clean/prepare the data for analysis**\n"
   ]
  },
  {
   "cell_type": "code",
   "execution_count": 4,
   "metadata": {},
   "outputs": [
    {
     "data": {
      "text/html": [
       "<div>\n",
       "<style scoped>\n",
       "    .dataframe tbody tr th:only-of-type {\n",
       "        vertical-align: middle;\n",
       "    }\n",
       "\n",
       "    .dataframe tbody tr th {\n",
       "        vertical-align: top;\n",
       "    }\n",
       "\n",
       "    .dataframe thead th {\n",
       "        text-align: right;\n",
       "    }\n",
       "</style>\n",
       "<table border=\"1\" class=\"dataframe\">\n",
       "  <thead>\n",
       "    <tr style=\"text-align: right;\">\n",
       "      <th></th>\n",
       "      <th>Product code</th>\n",
       "      <th>Bureau of Meteorology station number</th>\n",
       "      <th>Year</th>\n",
       "      <th>Month</th>\n",
       "      <th>Day</th>\n",
       "      <th>Rainfall amount (millimetres)</th>\n",
       "      <th>Period over which rainfall was measured (days)</th>\n",
       "      <th>Quality</th>\n",
       "    </tr>\n",
       "  </thead>\n",
       "  <tbody>\n",
       "    <tr>\n",
       "      <th>7305</th>\n",
       "      <td>IDCJAC0009</td>\n",
       "      <td>40913</td>\n",
       "      <td>2019</td>\n",
       "      <td>1</td>\n",
       "      <td>1</td>\n",
       "      <td>0.0</td>\n",
       "      <td>1.0</td>\n",
       "      <td>N</td>\n",
       "    </tr>\n",
       "    <tr>\n",
       "      <th>7306</th>\n",
       "      <td>IDCJAC0009</td>\n",
       "      <td>40913</td>\n",
       "      <td>2019</td>\n",
       "      <td>1</td>\n",
       "      <td>2</td>\n",
       "      <td>0.0</td>\n",
       "      <td>1.0</td>\n",
       "      <td>N</td>\n",
       "    </tr>\n",
       "    <tr>\n",
       "      <th>7307</th>\n",
       "      <td>IDCJAC0009</td>\n",
       "      <td>40913</td>\n",
       "      <td>2019</td>\n",
       "      <td>1</td>\n",
       "      <td>3</td>\n",
       "      <td>8.4</td>\n",
       "      <td>1.0</td>\n",
       "      <td>N</td>\n",
       "    </tr>\n",
       "  </tbody>\n",
       "</table>\n",
       "</div>"
      ],
      "text/plain": [
       "     Product code  Bureau of Meteorology station number  Year  Month  Day  \\\n",
       "7305   IDCJAC0009                                 40913  2019      1    1   \n",
       "7306   IDCJAC0009                                 40913  2019      1    2   \n",
       "7307   IDCJAC0009                                 40913  2019      1    3   \n",
       "\n",
       "      Rainfall amount (millimetres)  \\\n",
       "7305                            0.0   \n",
       "7306                            0.0   \n",
       "7307                            8.4   \n",
       "\n",
       "      Period over which rainfall was measured (days) Quality  \n",
       "7305                                             1.0       N  \n",
       "7306                                             1.0       N  \n",
       "7307                                             1.0       N  "
      ]
     },
     "execution_count": 4,
     "metadata": {},
     "output_type": "execute_result"
    }
   ],
   "source": [
    "# From our question, we need only the last three year (not 2022)\n",
    "data = data[(data.Year >= 2019) & (data.Year < 2022)]\n",
    "data.head(3)\n"
   ]
  },
  {
   "cell_type": "code",
   "execution_count": 5,
   "metadata": {},
   "outputs": [
    {
     "name": "stdout",
     "output_type": "stream",
     "text": [
      "The dataset has 1096 rows and 8 columns!\n"
     ]
    }
   ],
   "source": [
    "# Dimensiones of dataset from 2019\n",
    "num_rows = data.shape[0]\n",
    "num_col = data.shape[1]\n",
    "print('The dataset has ' + str( num_rows ) + ' rows and ' + str( num_col ) + ' columns!' )\n"
   ]
  },
  {
   "cell_type": "code",
   "execution_count": 6,
   "metadata": {},
   "outputs": [
    {
     "name": "stdout",
     "output_type": "stream",
     "text": [
      "<class 'pandas.core.frame.DataFrame'>\n",
      "Int64Index: 1096 entries, 7305 to 8400\n",
      "Data columns (total 8 columns):\n",
      " #   Column                                          Non-Null Count  Dtype  \n",
      "---  ------                                          --------------  -----  \n",
      " 0   Product code                                    1096 non-null   object \n",
      " 1   Bureau of Meteorology station number            1096 non-null   int64  \n",
      " 2   Year                                            1096 non-null   int64  \n",
      " 3   Month                                           1096 non-null   int64  \n",
      " 4   Day                                             1096 non-null   int64  \n",
      " 5   Rainfall amount (millimetres)                   1064 non-null   float64\n",
      " 6   Period over which rainfall was measured (days)  1064 non-null   float64\n",
      " 7   Quality                                         1064 non-null   object \n",
      "dtypes: float64(2), int64(4), object(2)\n",
      "memory usage: 77.1+ KB\n"
     ]
    }
   ],
   "source": [
    "# We can look in missing values to improve our data quality\n",
    "data.info()\n"
   ]
  },
  {
   "cell_type": "code",
   "execution_count": 7,
   "metadata": {},
   "outputs": [
    {
     "name": "stdout",
     "output_type": "stream",
     "text": [
      "- Rainfall amount (millimetres) variable has 32 missing values which represents 2.92%\n"
     ]
    }
   ],
   "source": [
    "print(\"- Rainfall amount (millimetres) variable has \" + str(data.shape[0] - data['Rainfall amount (millimetres)'].count()) \n",
    "      + \" missing values which represents \" + str(round((data.shape[0] - data['Rainfall amount (millimetres)'].count())/data.shape[0]*100,2)) + \"%\")\n"
   ]
  },
  {
   "cell_type": "markdown",
   "metadata": {},
   "source": [
    "**Decision about missing values**\n",
    "\n",
    "- 2.92% of missing values can be a minuscule representation of data, therefore, it could be dropped these empty values.\n",
    "- However, in order to have bigger sample of data, it will be filled these fields using interpolation for numerical values.\n"
   ]
  },
  {
   "cell_type": "code",
   "execution_count": 8,
   "metadata": {},
   "outputs": [],
   "source": [
    "# Interpolate Rainfall amount\n",
    "data[\"Rainfall_amount_(millimetres)_Interpolate\"] = data[\"Rainfall amount (millimetres)\"]\n",
    "data[\"Rainfall_amount_(millimetres)_Interpolate\"].interpolate(method ='linear', inplace=True) \n"
   ]
  },
  {
   "cell_type": "code",
   "execution_count": 9,
   "metadata": {},
   "outputs": [
    {
     "name": "stdout",
     "output_type": "stream",
     "text": [
      "<class 'pandas.core.frame.DataFrame'>\n",
      "Int64Index: 1096 entries, 7305 to 8400\n",
      "Data columns (total 9 columns):\n",
      " #   Column                                          Non-Null Count  Dtype  \n",
      "---  ------                                          --------------  -----  \n",
      " 0   Product code                                    1096 non-null   object \n",
      " 1   Bureau of Meteorology station number            1096 non-null   int64  \n",
      " 2   Year                                            1096 non-null   int64  \n",
      " 3   Month                                           1096 non-null   int64  \n",
      " 4   Day                                             1096 non-null   int64  \n",
      " 5   Rainfall amount (millimetres)                   1064 non-null   float64\n",
      " 6   Period over which rainfall was measured (days)  1064 non-null   float64\n",
      " 7   Quality                                         1064 non-null   object \n",
      " 8   Rainfall_amount_(millimetres)_Interpolate       1096 non-null   float64\n",
      "dtypes: float64(3), int64(4), object(2)\n",
      "memory usage: 85.6+ KB\n"
     ]
    }
   ],
   "source": [
    "# We can now see that the missing values are completed for the variables which will be analysed\n",
    "data.info()\n"
   ]
  },
  {
   "cell_type": "markdown",
   "metadata": {},
   "source": [
    "### 3. Analysis"
   ]
  },
  {
   "cell_type": "code",
   "execution_count": 10,
   "metadata": {},
   "outputs": [
    {
     "name": "stdout",
     "output_type": "stream",
     "text": [
      "The dataset now has 1096 rows and 4 columns!\n"
     ]
    }
   ],
   "source": [
    "# Taking only variables which will be analysed\n",
    "# It has been identified the following variable to analyse:\n",
    "variables = [\"Year\",\"Month\",\"Day\",\"Rainfall_amount_(millimetres)_Interpolate\"]\n",
    "data = data.filter(variables, axis=1)\n",
    "\n",
    "num_rows = data.shape[0]\n",
    "num_col = data.shape[1]\n",
    "print('The dataset now has ' + str( num_rows ) + ' rows and ' + str( num_col ) + ' columns!' )\n"
   ]
  },
  {
   "cell_type": "markdown",
   "metadata": {},
   "source": [
    "***Descriptive statistics***\n",
    "\n",
    "It is important to look in the mean, median and standard deviation to know the distribution of the data"
   ]
  },
  {
   "cell_type": "markdown",
   "metadata": {},
   "source": [
    "**What is the annual rainfall amount?**"
   ]
  },
  {
   "cell_type": "code",
   "execution_count": 11,
   "metadata": {},
   "outputs": [
    {
     "data": {
      "text/html": [
       "<div>\n",
       "<style scoped>\n",
       "    .dataframe tbody tr th:only-of-type {\n",
       "        vertical-align: middle;\n",
       "    }\n",
       "\n",
       "    .dataframe tbody tr th {\n",
       "        vertical-align: top;\n",
       "    }\n",
       "\n",
       "    .dataframe thead th {\n",
       "        text-align: right;\n",
       "    }\n",
       "</style>\n",
       "<table border=\"1\" class=\"dataframe\">\n",
       "  <thead>\n",
       "    <tr style=\"text-align: right;\">\n",
       "      <th></th>\n",
       "      <th>Rainfall_amount_(millimetres)_Interpolate</th>\n",
       "    </tr>\n",
       "    <tr>\n",
       "      <th>Year</th>\n",
       "      <th></th>\n",
       "    </tr>\n",
       "  </thead>\n",
       "  <tbody>\n",
       "    <tr>\n",
       "      <th>2019</th>\n",
       "      <td>657.3</td>\n",
       "    </tr>\n",
       "    <tr>\n",
       "      <th>2020</th>\n",
       "      <td>1073.3</td>\n",
       "    </tr>\n",
       "    <tr>\n",
       "      <th>2021</th>\n",
       "      <td>1476.0</td>\n",
       "    </tr>\n",
       "  </tbody>\n",
       "</table>\n",
       "</div>"
      ],
      "text/plain": [
       "      Rainfall_amount_(millimetres)_Interpolate\n",
       "Year                                           \n",
       "2019                                      657.3\n",
       "2020                                     1073.3\n",
       "2021                                     1476.0"
      ]
     },
     "execution_count": 11,
     "metadata": {},
     "output_type": "execute_result"
    }
   ],
   "source": [
    "data[['Year','Rainfall_amount_(millimetres)_Interpolate']].groupby('Year', sort=True).sum()\n"
   ]
  },
  {
   "cell_type": "markdown",
   "metadata": {},
   "source": [
    "**Table1**: Rainfall by year and month (Brisbane)"
   ]
  },
  {
   "cell_type": "code",
   "execution_count": 12,
   "metadata": {},
   "outputs": [
    {
     "data": {
      "text/html": [
       "<div>\n",
       "<style scoped>\n",
       "    .dataframe tbody tr th:only-of-type {\n",
       "        vertical-align: middle;\n",
       "    }\n",
       "\n",
       "    .dataframe tbody tr th {\n",
       "        vertical-align: top;\n",
       "    }\n",
       "\n",
       "    .dataframe thead th {\n",
       "        text-align: right;\n",
       "    }\n",
       "</style>\n",
       "<table border=\"1\" class=\"dataframe\">\n",
       "  <thead>\n",
       "    <tr style=\"text-align: right;\">\n",
       "      <th>Year</th>\n",
       "      <th>2019</th>\n",
       "      <th>2020</th>\n",
       "      <th>2021</th>\n",
       "      <th>Average</th>\n",
       "    </tr>\n",
       "    <tr>\n",
       "      <th>Month</th>\n",
       "      <th></th>\n",
       "      <th></th>\n",
       "      <th></th>\n",
       "      <th></th>\n",
       "    </tr>\n",
       "  </thead>\n",
       "  <tbody>\n",
       "    <tr>\n",
       "      <th>1</th>\n",
       "      <td>27.9</td>\n",
       "      <td>165.6</td>\n",
       "      <td>86.6</td>\n",
       "      <td>93.37</td>\n",
       "    </tr>\n",
       "    <tr>\n",
       "      <th>2</th>\n",
       "      <td>38.0</td>\n",
       "      <td>365.8</td>\n",
       "      <td>144.2</td>\n",
       "      <td>182.67</td>\n",
       "    </tr>\n",
       "    <tr>\n",
       "      <th>3</th>\n",
       "      <td>181.0</td>\n",
       "      <td>62.8</td>\n",
       "      <td>300.6</td>\n",
       "      <td>181.47</td>\n",
       "    </tr>\n",
       "    <tr>\n",
       "      <th>4</th>\n",
       "      <td>42.6</td>\n",
       "      <td>6.3</td>\n",
       "      <td>112.2</td>\n",
       "      <td>53.70</td>\n",
       "    </tr>\n",
       "    <tr>\n",
       "      <th>5</th>\n",
       "      <td>25.4</td>\n",
       "      <td>12.2</td>\n",
       "      <td>89.8</td>\n",
       "      <td>42.47</td>\n",
       "    </tr>\n",
       "    <tr>\n",
       "      <th>6</th>\n",
       "      <td>43.6</td>\n",
       "      <td>41.6</td>\n",
       "      <td>26.4</td>\n",
       "      <td>37.20</td>\n",
       "    </tr>\n",
       "    <tr>\n",
       "      <th>7</th>\n",
       "      <td>14.4</td>\n",
       "      <td>59.4</td>\n",
       "      <td>51.2</td>\n",
       "      <td>41.67</td>\n",
       "    </tr>\n",
       "    <tr>\n",
       "      <th>8</th>\n",
       "      <td>3.2</td>\n",
       "      <td>19.4</td>\n",
       "      <td>8.8</td>\n",
       "      <td>10.47</td>\n",
       "    </tr>\n",
       "    <tr>\n",
       "      <th>9</th>\n",
       "      <td>8.8</td>\n",
       "      <td>5.8</td>\n",
       "      <td>10.8</td>\n",
       "      <td>8.47</td>\n",
       "    </tr>\n",
       "    <tr>\n",
       "      <th>10</th>\n",
       "      <td>55.0</td>\n",
       "      <td>182.8</td>\n",
       "      <td>159.4</td>\n",
       "      <td>132.40</td>\n",
       "    </tr>\n",
       "    <tr>\n",
       "      <th>11</th>\n",
       "      <td>9.6</td>\n",
       "      <td>24.4</td>\n",
       "      <td>257.4</td>\n",
       "      <td>97.13</td>\n",
       "    </tr>\n",
       "    <tr>\n",
       "      <th>12</th>\n",
       "      <td>207.8</td>\n",
       "      <td>127.2</td>\n",
       "      <td>228.6</td>\n",
       "      <td>187.87</td>\n",
       "    </tr>\n",
       "  </tbody>\n",
       "</table>\n",
       "</div>"
      ],
      "text/plain": [
       "Year    2019   2020   2021  Average\n",
       "Month                              \n",
       "1       27.9  165.6   86.6    93.37\n",
       "2       38.0  365.8  144.2   182.67\n",
       "3      181.0   62.8  300.6   181.47\n",
       "4       42.6    6.3  112.2    53.70\n",
       "5       25.4   12.2   89.8    42.47\n",
       "6       43.6   41.6   26.4    37.20\n",
       "7       14.4   59.4   51.2    41.67\n",
       "8        3.2   19.4    8.8    10.47\n",
       "9        8.8    5.8   10.8     8.47\n",
       "10      55.0  182.8  159.4   132.40\n",
       "11       9.6   24.4  257.4    97.13\n",
       "12     207.8  127.2  228.6   187.87"
      ]
     },
     "execution_count": 12,
     "metadata": {},
     "output_type": "execute_result"
    }
   ],
   "source": [
    "data_pivot = data.reset_index().pivot_table(index='Month', columns='Year', values='Rainfall_amount_(millimetres)_Interpolate', aggfunc=np.sum)\n",
    "\n",
    "# Add average per each year\n",
    "column_names = [2019, 2020, 2021]\n",
    "data_pivot['Average']= round(data_pivot[column_names].mean(axis=1),2)\n",
    "data_pivot\n",
    "\n"
   ]
  },
  {
   "cell_type": "code",
   "execution_count": 13,
   "metadata": {},
   "outputs": [
    {
     "data": {
      "text/html": [
       "<div>\n",
       "<style scoped>\n",
       "    .dataframe tbody tr th:only-of-type {\n",
       "        vertical-align: middle;\n",
       "    }\n",
       "\n",
       "    .dataframe tbody tr th {\n",
       "        vertical-align: top;\n",
       "    }\n",
       "\n",
       "    .dataframe thead th {\n",
       "        text-align: right;\n",
       "    }\n",
       "</style>\n",
       "<table border=\"1\" class=\"dataframe\">\n",
       "  <thead>\n",
       "    <tr style=\"text-align: right;\">\n",
       "      <th>Year</th>\n",
       "      <th>2019</th>\n",
       "      <th>2020</th>\n",
       "      <th>2021</th>\n",
       "      <th>Average</th>\n",
       "    </tr>\n",
       "  </thead>\n",
       "  <tbody>\n",
       "    <tr>\n",
       "      <th>count</th>\n",
       "      <td>12.000000</td>\n",
       "      <td>12.000000</td>\n",
       "      <td>12.000000</td>\n",
       "      <td>12.000000</td>\n",
       "    </tr>\n",
       "    <tr>\n",
       "      <th>mean</th>\n",
       "      <td>54.775000</td>\n",
       "      <td>89.441667</td>\n",
       "      <td>123.000000</td>\n",
       "      <td>89.074167</td>\n",
       "    </tr>\n",
       "    <tr>\n",
       "      <th>std</th>\n",
       "      <td>67.375287</td>\n",
       "      <td>106.697358</td>\n",
       "      <td>97.790128</td>\n",
       "      <td>67.457243</td>\n",
       "    </tr>\n",
       "    <tr>\n",
       "      <th>min</th>\n",
       "      <td>3.200000</td>\n",
       "      <td>5.800000</td>\n",
       "      <td>8.800000</td>\n",
       "      <td>8.470000</td>\n",
       "    </tr>\n",
       "    <tr>\n",
       "      <th>25%</th>\n",
       "      <td>13.200000</td>\n",
       "      <td>17.600000</td>\n",
       "      <td>45.000000</td>\n",
       "      <td>40.552500</td>\n",
       "    </tr>\n",
       "    <tr>\n",
       "      <th>50%</th>\n",
       "      <td>32.950000</td>\n",
       "      <td>50.500000</td>\n",
       "      <td>101.000000</td>\n",
       "      <td>73.535000</td>\n",
       "    </tr>\n",
       "    <tr>\n",
       "      <th>75%</th>\n",
       "      <td>46.450000</td>\n",
       "      <td>136.800000</td>\n",
       "      <td>176.700000</td>\n",
       "      <td>144.667500</td>\n",
       "    </tr>\n",
       "    <tr>\n",
       "      <th>max</th>\n",
       "      <td>207.800000</td>\n",
       "      <td>365.800000</td>\n",
       "      <td>300.600000</td>\n",
       "      <td>187.870000</td>\n",
       "    </tr>\n",
       "  </tbody>\n",
       "</table>\n",
       "</div>"
      ],
      "text/plain": [
       "Year         2019        2020        2021     Average\n",
       "count   12.000000   12.000000   12.000000   12.000000\n",
       "mean    54.775000   89.441667  123.000000   89.074167\n",
       "std     67.375287  106.697358   97.790128   67.457243\n",
       "min      3.200000    5.800000    8.800000    8.470000\n",
       "25%     13.200000   17.600000   45.000000   40.552500\n",
       "50%     32.950000   50.500000  101.000000   73.535000\n",
       "75%     46.450000  136.800000  176.700000  144.667500\n",
       "max    207.800000  365.800000  300.600000  187.870000"
      ]
     },
     "execution_count": 13,
     "metadata": {},
     "output_type": "execute_result"
    }
   ],
   "source": [
    "descr = data_pivot.describe()\n",
    "descr\n",
    "\n",
    "# It is not interesting the average of min and max values because they were calculated selecting the month with lowest and highest values.\n",
    "# Therefore, it will be only used max and min values by year (not average)\n",
    "# In the next code will be calculated the final average which will be used for analysis"
   ]
  },
  {
   "cell_type": "markdown",
   "metadata": {},
   "source": [
    "**Table2**: Statistic Measurement by year (Brisbane)"
   ]
  },
  {
   "cell_type": "code",
   "execution_count": 14,
   "metadata": {},
   "outputs": [
    {
     "data": {
      "text/html": [
       "<div>\n",
       "<style scoped>\n",
       "    .dataframe tbody tr th:only-of-type {\n",
       "        vertical-align: middle;\n",
       "    }\n",
       "\n",
       "    .dataframe tbody tr th {\n",
       "        vertical-align: top;\n",
       "    }\n",
       "\n",
       "    .dataframe thead th {\n",
       "        text-align: right;\n",
       "    }\n",
       "</style>\n",
       "<table border=\"1\" class=\"dataframe\">\n",
       "  <thead>\n",
       "    <tr style=\"text-align: right;\">\n",
       "      <th>Year</th>\n",
       "      <th>index</th>\n",
       "      <th>2019</th>\n",
       "      <th>2020</th>\n",
       "      <th>2021</th>\n",
       "      <th>Average</th>\n",
       "    </tr>\n",
       "  </thead>\n",
       "  <tbody>\n",
       "    <tr>\n",
       "      <th>1</th>\n",
       "      <td>mean</td>\n",
       "      <td>54.775000</td>\n",
       "      <td>89.441667</td>\n",
       "      <td>123.000000</td>\n",
       "      <td>89.072222</td>\n",
       "    </tr>\n",
       "    <tr>\n",
       "      <th>2</th>\n",
       "      <td>std</td>\n",
       "      <td>67.375287</td>\n",
       "      <td>106.697358</td>\n",
       "      <td>97.790128</td>\n",
       "      <td>90.620924</td>\n",
       "    </tr>\n",
       "    <tr>\n",
       "      <th>3</th>\n",
       "      <td>min</td>\n",
       "      <td>3.200000</td>\n",
       "      <td>5.800000</td>\n",
       "      <td>8.800000</td>\n",
       "      <td>5.933333</td>\n",
       "    </tr>\n",
       "    <tr>\n",
       "      <th>7</th>\n",
       "      <td>max</td>\n",
       "      <td>207.800000</td>\n",
       "      <td>365.800000</td>\n",
       "      <td>300.600000</td>\n",
       "      <td>291.400000</td>\n",
       "    </tr>\n",
       "  </tbody>\n",
       "</table>\n",
       "</div>"
      ],
      "text/plain": [
       "Year index        2019        2020        2021     Average\n",
       "1     mean   54.775000   89.441667  123.000000   89.072222\n",
       "2      std   67.375287  106.697358   97.790128   90.620924\n",
       "3      min    3.200000    5.800000    8.800000    5.933333\n",
       "7      max  207.800000  365.800000  300.600000  291.400000"
      ]
     },
     "execution_count": 14,
     "metadata": {},
     "output_type": "execute_result"
    }
   ],
   "source": [
    "# to take out the index from a dataframe\n",
    "descr.reset_index(inplace=True)\n",
    "\n",
    "# Interest in mean, standard deviation, minimum and maximum value\n",
    "descr.drop([0,4,5,6], axis=0, inplace=True)\n",
    "\n",
    "# Add average per each year\n",
    "descr['Average']= descr[column_names].mean(axis=1)\n",
    "descr"
   ]
  },
  {
   "cell_type": "code",
   "execution_count": 15,
   "metadata": {},
   "outputs": [
    {
     "data": {
      "text/plain": [
       "<matplotlib.legend.Legend at 0x135817abeb0>"
      ]
     },
     "execution_count": 15,
     "metadata": {},
     "output_type": "execute_result"
    },
    {
     "data": {
      "image/png": "[encoded data removed]",
      "text/plain": [
       "<Figure size 432x288 with 1 Axes>"
      ]
     },
     "metadata": {},
     "output_type": "display_data"
    }
   ],
   "source": [
    "# visual representation of your descriptive statistics for the satifaction variable\n",
    "sns.set_style(\"darkgrid\")\n",
    "sns.scatterplot( x=\"index\" , y=2019, data=descr, color = 'black', label=2019 )\n",
    "sns.scatterplot( x=\"index\" , y=2020, data=descr, color = 'blue', label=2020)\n",
    "sns.scatterplot( x=\"index\" , y=2021, data=descr, color = 'red', label=2021)\n",
    "plt.ylabel(\"Rainfall(mm)\")\n",
    "plt.xlabel(\"Statistics\")\n",
    "plt.title(\"Figure1: Statistics measurements rainfall 2019-2020-2021\", size=10)\n",
    "plt.legend(fancybox=True,framealpha=1,shadow=True, borderpad=1,frameon=True)"
   ]
  },
  {
   "cell_type": "markdown",
   "metadata": {},
   "source": [
    "Looking this plot, it can be concluded:\n",
    "- Mean is around 50mm and 125mm per year\n",
    "- Minimum values are quite similar throughout the three years.\n",
    "- Maximum values shows some anormal distribution with the highest value in the year 2020 of around 350mm.\n"
   ]
  },
  {
   "cell_type": "markdown",
   "metadata": {},
   "source": [
    "**What is the Monthly average of rainfall from 2019 - 2022?**\n"
   ]
  },
  {
   "cell_type": "code",
   "execution_count": 16,
   "metadata": {},
   "outputs": [
    {
     "name": "stdout",
     "output_type": "stream",
     "text": [
      "\n",
      "Summary statistic measurement:\n",
      "\n",
      "\tAnnual average of rainfall: 89.07 milimetres per year\n",
      "\tMonthly average of rainfall year 2019: 54.78 milimetres per year\n",
      "\tMonthly average of rainfall year 2020: 89.44 milimetres per year\n",
      "\tMonthly average of rainfall year 2021: 123.0 milimetres per year\n",
      "\tMinimum average of rainfall: 5.93 milimetres per year\n",
      "\tMaximun average of rainfall: 291.4 milimetres per year\n",
      "\n",
      "\n"
     ]
    }
   ],
   "source": [
    "print(\"\\nSummary statistic measurement:\\n\")\n",
    "print(\"\\tAnnual average of rainfall: \" + str(round(descr['Average'][1],2)) + \" milimetres per year\")\n",
    "print(\"\\tMonthly average of rainfall year 2019: \" + str(round(descr[2019][1],2)) + \" milimetres per year\")\n",
    "print(\"\\tMonthly average of rainfall year 2020: \" + str(round(descr[2020][1],2)) + \" milimetres per year\")\n",
    "print(\"\\tMonthly average of rainfall year 2021: \" + str(round(descr[2021][1],2)) + \" milimetres per year\")\n",
    "print(\"\\tMinimum average of rainfall: \" + str(round(descr['Average'][3],2)) + \" milimetres per year\")\n",
    "print(\"\\tMaximun average of rainfall: \" + str(round(descr['Average'][7],2)) + \" milimetres per year\")\n",
    "print(\"\\n\")\n"
   ]
  },
  {
   "cell_type": "markdown",
   "metadata": {},
   "source": [
    "***Graphical Visualisation***\n"
   ]
  },
  {
   "cell_type": "code",
   "execution_count": 17,
   "metadata": {},
   "outputs": [
    {
     "data": {
      "text/plain": [
       "<matplotlib.collections.LineCollection at 0x1358184c2e0>"
      ]
     },
     "execution_count": 17,
     "metadata": {},
     "output_type": "execute_result"
    },
    {
     "data": {
      "image/png": "[encoded data removed]",
      "text/plain": [
       "<Figure size 720x360 with 1 Axes>"
      ]
     },
     "metadata": {},
     "output_type": "display_data"
    }
   ],
   "source": [
    "#Group data by month\n",
    "data[\"Date\"] = pd.to_datetime(data[[\"Year\", \"Month\"]].assign(DAY=1))\n",
    "data_month = data[['Date','Rainfall_amount_(millimetres)_Interpolate']].groupby('Date', sort=True).sum()\n",
    "data_month[:10]\n",
    "\n",
    "# Bar plot\n",
    "sns.set_style(\"ticks\")\n",
    "rainfall_plot = data_pivot.drop(columns=['Average'])\n",
    "rainfall_plot.plot(kind=\"bar\", figsize=(10,5), title=\"Figure2: Rainfall_amount_(millimetres) grouped by year\", xlabel=\"Month\", ylabel=\"Rainfall (mm)\",\n",
    "               color=['beige', 'coral', 'darkgrey'])\n",
    "\n",
    "plt.hlines((round(descr['Average'][1],2)),-1,12,colors=\"black\", linewidth=1, label='mean',linestyle='dashed')\n"
   ]
  },
  {
   "cell_type": "markdown",
   "metadata": {},
   "source": [
    "The plot illustrates the rainfall amount grouped by year and month, which allows compare months of last years in sequential time.\n",
    "Furthermore, It has been added the mean (horizontal black line) found in table2 with a value of 89.07mm per year.\n",
    "\n",
    "It can see certain pattern and to determine significant periods:\n",
    "\n",
    "- Between April and September are approximately below of the mean, so they can be regarded the driest months of the year.\n",
    "- Heavy rainfall period starts from october to March, with the biggest amount of rainfall between February and march. However, the media of rainfall found in Table1 indicates December is the greastest with a value of 187.87 in comparison to February and March with 182.67mm and 181.47mm, respectively.\n"
   ]
  },
  {
   "cell_type": "code",
   "execution_count": 18,
   "metadata": {},
   "outputs": [
    {
     "data": {
      "text/plain": [
       "Text(0.5, 1.0, 'Figure3: Average rainfall by month 2019-2020-2021')"
      ]
     },
     "execution_count": 18,
     "metadata": {},
     "output_type": "execute_result"
    },
    {
     "data": {
      "image/png": "[encoded data removed]",
      "text/plain": [
       "<Figure size 432x288 with 1 Axes>"
      ]
     },
     "metadata": {},
     "output_type": "display_data"
    }
   ],
   "source": [
    "# Plot the monthly average of rainfall \n",
    "plt.plot(data_pivot[\"Average\"], linewidth=1)\n",
    "plt.ylabel('rainfall(mm)')\n",
    "plt.title('Figure3: Average rainfall by month 2019-2020-2021',size=10)\n"
   ]
  },
  {
   "cell_type": "markdown",
   "metadata": {},
   "source": [
    "This plot reveals the bigest amount in December in comparison to February and March. Moreover, the lowest amount of rainfall in September"
   ]
  },
  {
   "cell_type": "markdown",
   "metadata": {},
   "source": [
    "**Decision about significant events**: Taking in consideration the tables elaborated and graphics illustrated, it has been regarded the following significant events to a posterior analysis with another Australian city.\n",
    "- Analysis1: Data will be split into two semesters: between April and September and between October and March, driest and rainiest months, respectively.\n",
    "- Analysis2: The analysis focuses on the driest and rainiest month previously determined by the mean in tables and plots:  September (mean) and December (mean), respectively.\n",
    "- Analysis3: The last analysis focuses on August 2019 and February 2020 which were the driest and rainiest month througout this period time of three years.\n"
   ]
  },
  {
   "cell_type": "markdown",
   "metadata": {},
   "source": [
    "**Upload Melbourne data Rainfall**\n",
    "\n",
    "Melbourne city has been selected to compare amount of rainfall with Brisbane."
   ]
  },
  {
   "cell_type": "code",
   "execution_count": 19,
   "metadata": {},
   "outputs": [
    {
     "data": {
      "text/html": [
       "<div>\n",
       "<style scoped>\n",
       "    .dataframe tbody tr th:only-of-type {\n",
       "        vertical-align: middle;\n",
       "    }\n",
       "\n",
       "    .dataframe tbody tr th {\n",
       "        vertical-align: top;\n",
       "    }\n",
       "\n",
       "    .dataframe thead th {\n",
       "        text-align: right;\n",
       "    }\n",
       "</style>\n",
       "<table border=\"1\" class=\"dataframe\">\n",
       "  <thead>\n",
       "    <tr style=\"text-align: right;\">\n",
       "      <th>Year</th>\n",
       "      <th>2019</th>\n",
       "      <th>2020</th>\n",
       "      <th>2021</th>\n",
       "      <th>Average</th>\n",
       "    </tr>\n",
       "    <tr>\n",
       "      <th>Month</th>\n",
       "      <th></th>\n",
       "      <th></th>\n",
       "      <th></th>\n",
       "      <th></th>\n",
       "    </tr>\n",
       "  </thead>\n",
       "  <tbody>\n",
       "    <tr>\n",
       "      <th>1</th>\n",
       "      <td>12.6</td>\n",
       "      <td>129.4</td>\n",
       "      <td>93.6</td>\n",
       "      <td>78.53</td>\n",
       "    </tr>\n",
       "    <tr>\n",
       "      <th>2</th>\n",
       "      <td>20.3</td>\n",
       "      <td>77.0</td>\n",
       "      <td>11.2</td>\n",
       "      <td>36.17</td>\n",
       "    </tr>\n",
       "    <tr>\n",
       "      <th>3</th>\n",
       "      <td>14.6</td>\n",
       "      <td>90.2</td>\n",
       "      <td>60.2</td>\n",
       "      <td>55.00</td>\n",
       "    </tr>\n",
       "    <tr>\n",
       "      <th>4</th>\n",
       "      <td>13.6</td>\n",
       "      <td>145.6</td>\n",
       "      <td>38.2</td>\n",
       "      <td>65.80</td>\n",
       "    </tr>\n",
       "    <tr>\n",
       "      <th>5</th>\n",
       "      <td>63.5</td>\n",
       "      <td>82.8</td>\n",
       "      <td>69.8</td>\n",
       "      <td>72.03</td>\n",
       "    </tr>\n",
       "    <tr>\n",
       "      <th>6</th>\n",
       "      <td>57.5</td>\n",
       "      <td>30.8</td>\n",
       "      <td>47.7</td>\n",
       "      <td>45.33</td>\n",
       "    </tr>\n",
       "    <tr>\n",
       "      <th>7</th>\n",
       "      <td>53.3</td>\n",
       "      <td>32.4</td>\n",
       "      <td>35.7</td>\n",
       "      <td>40.47</td>\n",
       "    </tr>\n",
       "    <tr>\n",
       "      <th>8</th>\n",
       "      <td>64.3</td>\n",
       "      <td>68.8</td>\n",
       "      <td>59.2</td>\n",
       "      <td>64.10</td>\n",
       "    </tr>\n",
       "    <tr>\n",
       "      <th>9</th>\n",
       "      <td>51.4</td>\n",
       "      <td>26.8</td>\n",
       "      <td>72.6</td>\n",
       "      <td>50.27</td>\n",
       "    </tr>\n",
       "    <tr>\n",
       "      <th>10</th>\n",
       "      <td>27.7</td>\n",
       "      <td>80.8</td>\n",
       "      <td>118.5</td>\n",
       "      <td>75.67</td>\n",
       "    </tr>\n",
       "    <tr>\n",
       "      <th>11</th>\n",
       "      <td>60.8</td>\n",
       "      <td>56.7</td>\n",
       "      <td>98.2</td>\n",
       "      <td>71.90</td>\n",
       "    </tr>\n",
       "    <tr>\n",
       "      <th>12</th>\n",
       "      <td>4.4</td>\n",
       "      <td>42.6</td>\n",
       "      <td>22.6</td>\n",
       "      <td>23.20</td>\n",
       "    </tr>\n",
       "  </tbody>\n",
       "</table>\n",
       "</div>"
      ],
      "text/plain": [
       "Year   2019   2020   2021  Average\n",
       "Month                             \n",
       "1      12.6  129.4   93.6    78.53\n",
       "2      20.3   77.0   11.2    36.17\n",
       "3      14.6   90.2   60.2    55.00\n",
       "4      13.6  145.6   38.2    65.80\n",
       "5      63.5   82.8   69.8    72.03\n",
       "6      57.5   30.8   47.7    45.33\n",
       "7      53.3   32.4   35.7    40.47\n",
       "8      64.3   68.8   59.2    64.10\n",
       "9      51.4   26.8   72.6    50.27\n",
       "10     27.7   80.8  118.5    75.67\n",
       "11     60.8   56.7   98.2    71.90\n",
       "12      4.4   42.6   22.6    23.20"
      ]
     },
     "execution_count": 19,
     "metadata": {},
     "output_type": "execute_result"
    }
   ],
   "source": [
    "# Upload data\n",
    "data_melbourne= pd.read_csv('Melbourne_Data.csv', )\n",
    "data_melbourne.head(3)\n",
    "\n",
    "# From our question, we need only the last three year (not 2022)\n",
    "data_melbourne = data_melbourne[(data_melbourne.Year >= 2019) & (data_melbourne.Year < 2022)]\n",
    "data_melbourne.head(3)\n",
    "\n",
    "# Interpolate Rainfall amount for missing values\n",
    "data_melbourne[\"Rainfall_amount_(millimetres)_Interpolate\"] = data_melbourne[\"Rainfall amount (millimetres)\"]\n",
    "data_melbourne[\"Rainfall_amount_(millimetres)_Interpolate\"].interpolate(method ='linear', inplace=True) \n",
    "\n",
    "# Taking only variables which will be analysed\n",
    "variables = [\"Year\",\"Month\",\"Day\",\"Rainfall_amount_(millimetres)_Interpolate\"]\n",
    "data_melbourne = data_melbourne.filter(variables, axis=1)\n",
    "\n",
    "# Rainfall by year and month\n",
    "data_melbourne = data_melbourne.reset_index().pivot_table(index='Month', columns='Year', values='Rainfall_amount_(millimetres)_Interpolate', aggfunc=np.sum)\n",
    "\n",
    "data_melbourne['Average']= round(data_melbourne[column_names].mean(axis=1),2)\n",
    "data_melbourne"
   ]
  },
  {
   "cell_type": "code",
   "execution_count": 20,
   "metadata": {},
   "outputs": [
    {
     "data": {
      "text/html": [
       "<div>\n",
       "<style scoped>\n",
       "    .dataframe tbody tr th:only-of-type {\n",
       "        vertical-align: middle;\n",
       "    }\n",
       "\n",
       "    .dataframe tbody tr th {\n",
       "        vertical-align: top;\n",
       "    }\n",
       "\n",
       "    .dataframe thead th {\n",
       "        text-align: right;\n",
       "    }\n",
       "</style>\n",
       "<table border=\"1\" class=\"dataframe\">\n",
       "  <thead>\n",
       "    <tr style=\"text-align: right;\">\n",
       "      <th>Year</th>\n",
       "      <th>2019</th>\n",
       "      <th>2020</th>\n",
       "      <th>2021</th>\n",
       "      <th>Average</th>\n",
       "    </tr>\n",
       "    <tr>\n",
       "      <th>Month</th>\n",
       "      <th></th>\n",
       "      <th></th>\n",
       "      <th></th>\n",
       "      <th></th>\n",
       "    </tr>\n",
       "  </thead>\n",
       "  <tbody>\n",
       "    <tr>\n",
       "      <th>1</th>\n",
       "      <td>27.9</td>\n",
       "      <td>165.6</td>\n",
       "      <td>86.6</td>\n",
       "      <td>93.37</td>\n",
       "    </tr>\n",
       "    <tr>\n",
       "      <th>2</th>\n",
       "      <td>38.0</td>\n",
       "      <td>365.8</td>\n",
       "      <td>144.2</td>\n",
       "      <td>182.67</td>\n",
       "    </tr>\n",
       "    <tr>\n",
       "      <th>3</th>\n",
       "      <td>181.0</td>\n",
       "      <td>62.8</td>\n",
       "      <td>300.6</td>\n",
       "      <td>181.47</td>\n",
       "    </tr>\n",
       "    <tr>\n",
       "      <th>4</th>\n",
       "      <td>42.6</td>\n",
       "      <td>6.3</td>\n",
       "      <td>112.2</td>\n",
       "      <td>53.70</td>\n",
       "    </tr>\n",
       "    <tr>\n",
       "      <th>5</th>\n",
       "      <td>25.4</td>\n",
       "      <td>12.2</td>\n",
       "      <td>89.8</td>\n",
       "      <td>42.47</td>\n",
       "    </tr>\n",
       "    <tr>\n",
       "      <th>6</th>\n",
       "      <td>43.6</td>\n",
       "      <td>41.6</td>\n",
       "      <td>26.4</td>\n",
       "      <td>37.20</td>\n",
       "    </tr>\n",
       "    <tr>\n",
       "      <th>7</th>\n",
       "      <td>14.4</td>\n",
       "      <td>59.4</td>\n",
       "      <td>51.2</td>\n",
       "      <td>41.67</td>\n",
       "    </tr>\n",
       "    <tr>\n",
       "      <th>8</th>\n",
       "      <td>3.2</td>\n",
       "      <td>19.4</td>\n",
       "      <td>8.8</td>\n",
       "      <td>10.47</td>\n",
       "    </tr>\n",
       "    <tr>\n",
       "      <th>9</th>\n",
       "      <td>8.8</td>\n",
       "      <td>5.8</td>\n",
       "      <td>10.8</td>\n",
       "      <td>8.47</td>\n",
       "    </tr>\n",
       "    <tr>\n",
       "      <th>10</th>\n",
       "      <td>55.0</td>\n",
       "      <td>182.8</td>\n",
       "      <td>159.4</td>\n",
       "      <td>132.40</td>\n",
       "    </tr>\n",
       "    <tr>\n",
       "      <th>11</th>\n",
       "      <td>9.6</td>\n",
       "      <td>24.4</td>\n",
       "      <td>257.4</td>\n",
       "      <td>97.13</td>\n",
       "    </tr>\n",
       "    <tr>\n",
       "      <th>12</th>\n",
       "      <td>207.8</td>\n",
       "      <td>127.2</td>\n",
       "      <td>228.6</td>\n",
       "      <td>187.87</td>\n",
       "    </tr>\n",
       "  </tbody>\n",
       "</table>\n",
       "</div>"
      ],
      "text/plain": [
       "Year    2019   2020   2021  Average\n",
       "Month                              \n",
       "1       27.9  165.6   86.6    93.37\n",
       "2       38.0  365.8  144.2   182.67\n",
       "3      181.0   62.8  300.6   181.47\n",
       "4       42.6    6.3  112.2    53.70\n",
       "5       25.4   12.2   89.8    42.47\n",
       "6       43.6   41.6   26.4    37.20\n",
       "7       14.4   59.4   51.2    41.67\n",
       "8        3.2   19.4    8.8    10.47\n",
       "9        8.8    5.8   10.8     8.47\n",
       "10      55.0  182.8  159.4   132.40\n",
       "11       9.6   24.4  257.4    97.13\n",
       "12     207.8  127.2  228.6   187.87"
      ]
     },
     "execution_count": 20,
     "metadata": {},
     "output_type": "execute_result"
    }
   ],
   "source": [
    "# Rename data_pivot as 'data_brisbane'\n",
    "data_brisbane = data_pivot\n",
    "data_brisbane"
   ]
  },
  {
   "cell_type": "markdown",
   "metadata": {},
   "source": [
    "##### **Analysis1**: What difference can be seen when rainfall period is split in rainest and driest months according to Brisbane?"
   ]
  },
  {
   "cell_type": "code",
   "execution_count": 21,
   "metadata": {},
   "outputs": [],
   "source": [
    "# According to the previous analysis in Brisbane city, it was identified: \n",
    "# rainest_months = from October to March\n",
    "# driest_months = from April to Setember\n",
    "\n",
    "## Split data by dry and rain months\n",
    "\n",
    "apr_to_set_br = data_brisbane.query('Month == [4,5,6,7,8,9]')\n",
    "apr_to_set_mel = data_melbourne.query('Month == [4,5,6,7,8,9]')\n",
    "\n",
    "oct_to_march_br = data_brisbane.query('Month == [10,11,12,1,2,3]')\n",
    "oct_to_march_mel = data_melbourne.query('Month == [10,11,12,1,2,3]')"
   ]
  },
  {
   "cell_type": "code",
   "execution_count": 22,
   "metadata": {},
   "outputs": [
    {
     "data": {
      "text/html": [
       "<div>\n",
       "<style scoped>\n",
       "    .dataframe tbody tr th:only-of-type {\n",
       "        vertical-align: middle;\n",
       "    }\n",
       "\n",
       "    .dataframe tbody tr th {\n",
       "        vertical-align: top;\n",
       "    }\n",
       "\n",
       "    .dataframe thead th {\n",
       "        text-align: right;\n",
       "    }\n",
       "</style>\n",
       "<table border=\"1\" class=\"dataframe\">\n",
       "  <thead>\n",
       "    <tr style=\"text-align: right;\">\n",
       "      <th></th>\n",
       "      <th>apr_to_set_br</th>\n",
       "      <th>apr_to_set_mel</th>\n",
       "    </tr>\n",
       "    <tr>\n",
       "      <th>Year</th>\n",
       "      <th></th>\n",
       "      <th></th>\n",
       "    </tr>\n",
       "  </thead>\n",
       "  <tbody>\n",
       "    <tr>\n",
       "      <th>2019</th>\n",
       "      <td>23.00</td>\n",
       "      <td>50.60</td>\n",
       "    </tr>\n",
       "    <tr>\n",
       "      <th>2020</th>\n",
       "      <td>24.12</td>\n",
       "      <td>64.53</td>\n",
       "    </tr>\n",
       "    <tr>\n",
       "      <th>2021</th>\n",
       "      <td>49.87</td>\n",
       "      <td>53.87</td>\n",
       "    </tr>\n",
       "    <tr>\n",
       "      <th>Average</th>\n",
       "      <td>32.33</td>\n",
       "      <td>56.33</td>\n",
       "    </tr>\n",
       "  </tbody>\n",
       "</table>\n",
       "</div>"
      ],
      "text/plain": [
       "         apr_to_set_br  apr_to_set_mel\n",
       "Year                                  \n",
       "2019             23.00           50.60\n",
       "2020             24.12           64.53\n",
       "2021             49.87           53.87\n",
       "Average          32.33           56.33"
      ]
     },
     "execution_count": 22,
     "metadata": {},
     "output_type": "execute_result"
    }
   ],
   "source": [
    "# Obtain the average of amount rainfall between April and September and to convert into one dataframe\n",
    "df_apr_to_set_br = pd.DataFrame(apr_to_set_br.mean()).rename(columns = {0:'apr_to_set_br'})\n",
    "df_apr_to_set_mel = pd.DataFrame(apr_to_set_mel.mean()).rename(columns = {0:'apr_to_set_mel'})\n",
    "apr_to_set_df = pd.merge(df_apr_to_set_br, df_apr_to_set_mel, on='Year')\n",
    "\n",
    "# Drop 'average' row\n",
    "#apr_to_set_df = apr_to_set_df.drop(index='Average')\n",
    "\n",
    "round(apr_to_set_df,2)"
   ]
  },
  {
   "cell_type": "code",
   "execution_count": 23,
   "metadata": {},
   "outputs": [
    {
     "data": {
      "text/html": [
       "<div>\n",
       "<style scoped>\n",
       "    .dataframe tbody tr th:only-of-type {\n",
       "        vertical-align: middle;\n",
       "    }\n",
       "\n",
       "    .dataframe tbody tr th {\n",
       "        vertical-align: top;\n",
       "    }\n",
       "\n",
       "    .dataframe thead th {\n",
       "        text-align: right;\n",
       "    }\n",
       "</style>\n",
       "<table border=\"1\" class=\"dataframe\">\n",
       "  <thead>\n",
       "    <tr style=\"text-align: right;\">\n",
       "      <th></th>\n",
       "      <th>oct_to_march_br</th>\n",
       "      <th>oct_to_march_mel</th>\n",
       "    </tr>\n",
       "    <tr>\n",
       "      <th>Year</th>\n",
       "      <th></th>\n",
       "      <th></th>\n",
       "    </tr>\n",
       "  </thead>\n",
       "  <tbody>\n",
       "    <tr>\n",
       "      <th>2019</th>\n",
       "      <td>86.55</td>\n",
       "      <td>23.40</td>\n",
       "    </tr>\n",
       "    <tr>\n",
       "      <th>2020</th>\n",
       "      <td>154.77</td>\n",
       "      <td>79.45</td>\n",
       "    </tr>\n",
       "    <tr>\n",
       "      <th>2021</th>\n",
       "      <td>196.13</td>\n",
       "      <td>67.38</td>\n",
       "    </tr>\n",
       "    <tr>\n",
       "      <th>Average</th>\n",
       "      <td>145.82</td>\n",
       "      <td>56.74</td>\n",
       "    </tr>\n",
       "  </tbody>\n",
       "</table>\n",
       "</div>"
      ],
      "text/plain": [
       "         oct_to_march_br  oct_to_march_mel\n",
       "Year                                      \n",
       "2019               86.55             23.40\n",
       "2020              154.77             79.45\n",
       "2021              196.13             67.38\n",
       "Average           145.82             56.74"
      ]
     },
     "execution_count": 23,
     "metadata": {},
     "output_type": "execute_result"
    }
   ],
   "source": [
    "# Obtain the average of amount rainfall  between April and September and to convert into one dataframe\n",
    "df_oct_to_march_br = pd.DataFrame(oct_to_march_br.mean()).rename(columns = {0:'oct_to_march_br'})\n",
    "df_oct_to_march_mel = pd.DataFrame(oct_to_march_mel.mean()).rename(columns = {0:'oct_to_march_mel'})\n",
    "df_oct_to_march_df = pd.merge(df_oct_to_march_br, df_oct_to_march_mel, on='Year')\n",
    "\n",
    "# Drop 'average' row\n",
    "#df_oct_to_march_df = df_oct_to_march_df.drop(index='Average')\n",
    "\n",
    "round(df_oct_to_march_df,2)"
   ]
  },
  {
   "cell_type": "markdown",
   "metadata": {},
   "source": [
    "##### **Analysis2:** What difference there is from the driest and rainest month of Brisbane rainfall and Melbourne?"
   ]
  },
  {
   "cell_type": "code",
   "execution_count": 24,
   "metadata": {},
   "outputs": [],
   "source": [
    "# Select driest and rainest months according to the mean of Brisbane: Setember and December, respectively.\n",
    "set_br = data_brisbane.query('Month == [9]')\n",
    "set_mel = data_melbourne.query('Month == [9]')\n",
    "\n",
    "dec_br = data_brisbane.query('Month == [12]')\n",
    "dec_mel = data_melbourne.query('Month == [12]')\n"
   ]
  },
  {
   "cell_type": "code",
   "execution_count": 25,
   "metadata": {},
   "outputs": [
    {
     "data": {
      "text/html": [
       "<div>\n",
       "<style scoped>\n",
       "    .dataframe tbody tr th:only-of-type {\n",
       "        vertical-align: middle;\n",
       "    }\n",
       "\n",
       "    .dataframe tbody tr th {\n",
       "        vertical-align: top;\n",
       "    }\n",
       "\n",
       "    .dataframe thead th {\n",
       "        text-align: right;\n",
       "    }\n",
       "</style>\n",
       "<table border=\"1\" class=\"dataframe\">\n",
       "  <thead>\n",
       "    <tr style=\"text-align: right;\">\n",
       "      <th>Year</th>\n",
       "      <th>2019</th>\n",
       "      <th>2020</th>\n",
       "      <th>2021</th>\n",
       "      <th>Average</th>\n",
       "    </tr>\n",
       "    <tr>\n",
       "      <th>Month</th>\n",
       "      <th></th>\n",
       "      <th></th>\n",
       "      <th></th>\n",
       "      <th></th>\n",
       "    </tr>\n",
       "  </thead>\n",
       "  <tbody>\n",
       "    <tr>\n",
       "      <th>set_br</th>\n",
       "      <td>8.8</td>\n",
       "      <td>5.8</td>\n",
       "      <td>10.8</td>\n",
       "      <td>8.47</td>\n",
       "    </tr>\n",
       "    <tr>\n",
       "      <th>set_mel</th>\n",
       "      <td>51.4</td>\n",
       "      <td>26.8</td>\n",
       "      <td>72.6</td>\n",
       "      <td>50.27</td>\n",
       "    </tr>\n",
       "  </tbody>\n",
       "</table>\n",
       "</div>"
      ],
      "text/plain": [
       "Year     2019  2020  2021  Average\n",
       "Month                             \n",
       "set_br    8.8   5.8  10.8     8.47\n",
       "set_mel  51.4  26.8  72.6    50.27"
      ]
     },
     "execution_count": 25,
     "metadata": {},
     "output_type": "execute_result"
    }
   ],
   "source": [
    "# Rename index to concatenate both months: September\n",
    "set_br = set_br.rename(index={9: 'set_br'})\n",
    "set_mel = set_mel.rename(index={9: 'set_mel'})\n",
    "\n",
    "# Concatenate\n",
    "set_df = pd.concat([set_br, set_mel], axis=0)\n",
    "set_df"
   ]
  },
  {
   "cell_type": "code",
   "execution_count": 26,
   "metadata": {},
   "outputs": [
    {
     "data": {
      "text/html": [
       "<div>\n",
       "<style scoped>\n",
       "    .dataframe tbody tr th:only-of-type {\n",
       "        vertical-align: middle;\n",
       "    }\n",
       "\n",
       "    .dataframe tbody tr th {\n",
       "        vertical-align: top;\n",
       "    }\n",
       "\n",
       "    .dataframe thead th {\n",
       "        text-align: right;\n",
       "    }\n",
       "</style>\n",
       "<table border=\"1\" class=\"dataframe\">\n",
       "  <thead>\n",
       "    <tr style=\"text-align: right;\">\n",
       "      <th>Year</th>\n",
       "      <th>2019</th>\n",
       "      <th>2020</th>\n",
       "      <th>2021</th>\n",
       "      <th>Average</th>\n",
       "    </tr>\n",
       "    <tr>\n",
       "      <th>Month</th>\n",
       "      <th></th>\n",
       "      <th></th>\n",
       "      <th></th>\n",
       "      <th></th>\n",
       "    </tr>\n",
       "  </thead>\n",
       "  <tbody>\n",
       "    <tr>\n",
       "      <th>dec_br</th>\n",
       "      <td>207.8</td>\n",
       "      <td>127.2</td>\n",
       "      <td>228.6</td>\n",
       "      <td>187.87</td>\n",
       "    </tr>\n",
       "    <tr>\n",
       "      <th>dec_mel</th>\n",
       "      <td>4.4</td>\n",
       "      <td>42.6</td>\n",
       "      <td>22.6</td>\n",
       "      <td>23.20</td>\n",
       "    </tr>\n",
       "  </tbody>\n",
       "</table>\n",
       "</div>"
      ],
      "text/plain": [
       "Year      2019   2020   2021  Average\n",
       "Month                                \n",
       "dec_br   207.8  127.2  228.6   187.87\n",
       "dec_mel    4.4   42.6   22.6    23.20"
      ]
     },
     "execution_count": 26,
     "metadata": {},
     "output_type": "execute_result"
    }
   ],
   "source": [
    "# Rename index to concatenate both months: December\n",
    "dec_br = dec_br.rename(index={12: 'dec_br'})\n",
    "dec_mel = dec_mel.rename(index={12: 'dec_mel'})\n",
    "\n",
    "# Concatenate\n",
    "dec_df = pd.concat([dec_br, dec_mel], axis=0)\n",
    "dec_df"
   ]
  },
  {
   "cell_type": "markdown",
   "metadata": {},
   "source": [
    "##### **Analysis3:** What can be seen in the month of August 2019 and February 2020?"
   ]
  },
  {
   "cell_type": "code",
   "execution_count": 27,
   "metadata": {},
   "outputs": [
    {
     "name": "stdout",
     "output_type": "stream",
     "text": [
      "Minimun rainfall in Brisbane througout 2019-2021 was in Auguts 2019: 3.2 mm\n",
      "Minimun rainfall in Brisbane througout 2019-2021 was in February 2020: 365.8 mm\n",
      "Rainfall in Melbourne Auguts 2019: 77.0 mm\n",
      "Rainfall in Melbourne February 2020: 64.3 mm\n"
     ]
    }
   ],
   "source": [
    "# Select driest and rainest month (by amount)\n",
    "\n",
    "#Brisbane\n",
    "aug2019_br = data_pivot.min().min()\n",
    "feb2020_br = data_brisbane.max().max()\n",
    "\n",
    "#Melbourne: it is need to identify the values of August 2019 and February 2020\n",
    "aug2019_mel = data_melbourne.loc[data_melbourne.index == 2,2020].values[0]\n",
    "feb2020__mel = data_melbourne.loc[data_melbourne.index == 8,2019].values[0]\n",
    "\n",
    "print(\"Minimun rainfall in Brisbane througout 2019-2021 was in Auguts 2019: \" + str(round((aug2019_br),2)) + \" mm\")\n",
    "print(\"Minimun rainfall in Brisbane througout 2019-2021 was in February 2020: \" + str(round((feb2020_br),2)) + \" mm\")\n",
    "\n",
    "print(\"Rainfall in Melbourne Auguts 2019: \" + str(round((aug2019_mel),2)) + \" mm\")\n",
    "print(\"Rainfall in Melbourne February 2020: \" + str(round((feb2020__mel),2)) + \" mm\")\n"
   ]
  },
  {
   "cell_type": "code",
   "execution_count": 28,
   "metadata": {},
   "outputs": [
    {
     "data": {
      "text/html": [
       "<div>\n",
       "<style scoped>\n",
       "    .dataframe tbody tr th:only-of-type {\n",
       "        vertical-align: middle;\n",
       "    }\n",
       "\n",
       "    .dataframe tbody tr th {\n",
       "        vertical-align: top;\n",
       "    }\n",
       "\n",
       "    .dataframe thead th {\n",
       "        text-align: right;\n",
       "    }\n",
       "</style>\n",
       "<table border=\"1\" class=\"dataframe\">\n",
       "  <thead>\n",
       "    <tr style=\"text-align: right;\">\n",
       "      <th></th>\n",
       "      <th>August_2019_Br</th>\n",
       "      <th>August_2019_Mel</th>\n",
       "    </tr>\n",
       "  </thead>\n",
       "  <tbody>\n",
       "    <tr>\n",
       "      <th>0</th>\n",
       "      <td>3.2</td>\n",
       "      <td>77.0</td>\n",
       "    </tr>\n",
       "  </tbody>\n",
       "</table>\n",
       "</div>"
      ],
      "text/plain": [
       "   August_2019_Br  August_2019_Mel\n",
       "0             3.2             77.0"
      ]
     },
     "execution_count": 28,
     "metadata": {},
     "output_type": "execute_result"
    }
   ],
   "source": [
    "#Create dataframe of rainfall August 2019 Brisbane and Melbourne\n",
    "data = {'August_2019_Br':[aug2019_br], 'August_2019_Mel':[aug2019_mel]}\n",
    "data_aug2019 = pd.DataFrame(data)\n",
    "data_aug2019"
   ]
  },
  {
   "cell_type": "code",
   "execution_count": 29,
   "metadata": {},
   "outputs": [
    {
     "data": {
      "text/html": [
       "<div>\n",
       "<style scoped>\n",
       "    .dataframe tbody tr th:only-of-type {\n",
       "        vertical-align: middle;\n",
       "    }\n",
       "\n",
       "    .dataframe tbody tr th {\n",
       "        vertical-align: top;\n",
       "    }\n",
       "\n",
       "    .dataframe thead th {\n",
       "        text-align: right;\n",
       "    }\n",
       "</style>\n",
       "<table border=\"1\" class=\"dataframe\">\n",
       "  <thead>\n",
       "    <tr style=\"text-align: right;\">\n",
       "      <th></th>\n",
       "      <th>February_2020_Br</th>\n",
       "      <th>February_2020_Mel</th>\n",
       "    </tr>\n",
       "  </thead>\n",
       "  <tbody>\n",
       "    <tr>\n",
       "      <th>0</th>\n",
       "      <td>365.8</td>\n",
       "      <td>64.3</td>\n",
       "    </tr>\n",
       "  </tbody>\n",
       "</table>\n",
       "</div>"
      ],
      "text/plain": [
       "   February_2020_Br  February_2020_Mel\n",
       "0             365.8               64.3"
      ]
     },
     "execution_count": 29,
     "metadata": {},
     "output_type": "execute_result"
    }
   ],
   "source": [
    "#Create dataframe of rainfall February 2020 Brisbane and Melbourne\n",
    "data = {'February_2020_Br':[feb2020_br], 'February_2020_Mel':[feb2020__mel]}\n",
    "data_feb2020 = pd.DataFrame(data)\n",
    "data_feb2020"
   ]
  },
  {
   "cell_type": "markdown",
   "metadata": {},
   "source": [
    "### 4. Visualisation"
   ]
  },
  {
   "cell_type": "markdown",
   "metadata": {},
   "source": [
    "##### **Visualisation:** Analysis 1"
   ]
  },
  {
   "cell_type": "code",
   "execution_count": 30,
   "metadata": {},
   "outputs": [
    {
     "data": {
      "image/png": "[encoded data removed]",
      "text/plain": [
       "<Figure size 360x216 with 1 Axes>"
      ]
     },
     "metadata": {},
     "output_type": "display_data"
    },
    {
     "data": {
      "image/png": "[encoded data removed]",
      "text/plain": [
       "<Figure size 360x216 with 1 Axes>"
      ]
     },
     "metadata": {},
     "output_type": "display_data"
    }
   ],
   "source": [
    "# Plot average of rainfall between April and September per each year\n",
    "apr_to_set_df.plot(kind=\"bar\", figsize=(5,3), ylabel=\"Rainfall (mm)\")\n",
    "plt.title(\"Figure4: Average of rainfall between April and Setember\",size=10)\n",
    "plt.legend(bbox_to_anchor=(1.0, 1.02))\n",
    "\n",
    "# Plot average of rainfall between October and March per each year\n",
    "df_oct_to_march_df.plot(kind=\"bar\", figsize=(5,3), ylabel=\"Rainfall (mm)\")\n",
    "plt.title(\"Figure5: Average of rainfall between October and March\", size=10)\n",
    "plt.legend(bbox_to_anchor=(1.0, 1.02))\n",
    "\n",
    "plt.show()"
   ]
  },
  {
   "cell_type": "markdown",
   "metadata": {},
   "source": [
    "##### **Visualisation:** Analysis 2"
   ]
  },
  {
   "cell_type": "code",
   "execution_count": 31,
   "metadata": {},
   "outputs": [
    {
     "data": {
      "text/html": [
       "<div>\n",
       "<style scoped>\n",
       "    .dataframe tbody tr th:only-of-type {\n",
       "        vertical-align: middle;\n",
       "    }\n",
       "\n",
       "    .dataframe tbody tr th {\n",
       "        vertical-align: top;\n",
       "    }\n",
       "\n",
       "    .dataframe thead th {\n",
       "        text-align: right;\n",
       "    }\n",
       "</style>\n",
       "<table border=\"1\" class=\"dataframe\">\n",
       "  <thead>\n",
       "    <tr style=\"text-align: right;\">\n",
       "      <th>Year</th>\n",
       "      <th>2019</th>\n",
       "      <th>2020</th>\n",
       "      <th>2021</th>\n",
       "      <th>Average</th>\n",
       "    </tr>\n",
       "    <tr>\n",
       "      <th>Month</th>\n",
       "      <th></th>\n",
       "      <th></th>\n",
       "      <th></th>\n",
       "      <th></th>\n",
       "    </tr>\n",
       "  </thead>\n",
       "  <tbody>\n",
       "    <tr>\n",
       "      <th>set_br</th>\n",
       "      <td>8.8</td>\n",
       "      <td>5.8</td>\n",
       "      <td>10.8</td>\n",
       "      <td>8.47</td>\n",
       "    </tr>\n",
       "    <tr>\n",
       "      <th>set_mel</th>\n",
       "      <td>51.4</td>\n",
       "      <td>26.8</td>\n",
       "      <td>72.6</td>\n",
       "      <td>50.27</td>\n",
       "    </tr>\n",
       "  </tbody>\n",
       "</table>\n",
       "</div>"
      ],
      "text/plain": [
       "Year     2019  2020  2021  Average\n",
       "Month                             \n",
       "set_br    8.8   5.8  10.8     8.47\n",
       "set_mel  51.4  26.8  72.6    50.27"
      ]
     },
     "execution_count": 31,
     "metadata": {},
     "output_type": "execute_result"
    }
   ],
   "source": [
    "# Visualising Rainfall in the months of September\n",
    "set_df"
   ]
  },
  {
   "cell_type": "code",
   "execution_count": 32,
   "metadata": {},
   "outputs": [
    {
     "data": {
      "text/html": [
       "<div>\n",
       "<style scoped>\n",
       "    .dataframe tbody tr th:only-of-type {\n",
       "        vertical-align: middle;\n",
       "    }\n",
       "\n",
       "    .dataframe tbody tr th {\n",
       "        vertical-align: top;\n",
       "    }\n",
       "\n",
       "    .dataframe thead th {\n",
       "        text-align: right;\n",
       "    }\n",
       "</style>\n",
       "<table border=\"1\" class=\"dataframe\">\n",
       "  <thead>\n",
       "    <tr style=\"text-align: right;\">\n",
       "      <th></th>\n",
       "      <th>set_br</th>\n",
       "      <th>set_mel</th>\n",
       "    </tr>\n",
       "    <tr>\n",
       "      <th>Year</th>\n",
       "      <th></th>\n",
       "      <th></th>\n",
       "    </tr>\n",
       "  </thead>\n",
       "  <tbody>\n",
       "    <tr>\n",
       "      <th>2019</th>\n",
       "      <td>8.80</td>\n",
       "      <td>51.40</td>\n",
       "    </tr>\n",
       "    <tr>\n",
       "      <th>2020</th>\n",
       "      <td>5.80</td>\n",
       "      <td>26.80</td>\n",
       "    </tr>\n",
       "    <tr>\n",
       "      <th>2021</th>\n",
       "      <td>10.80</td>\n",
       "      <td>72.60</td>\n",
       "    </tr>\n",
       "    <tr>\n",
       "      <th>Average</th>\n",
       "      <td>8.47</td>\n",
       "      <td>50.27</td>\n",
       "    </tr>\n",
       "  </tbody>\n",
       "</table>\n",
       "</div>"
      ],
      "text/plain": [
       "         set_br  set_mel\n",
       "Year                    \n",
       "2019       8.80    51.40\n",
       "2020       5.80    26.80\n",
       "2021      10.80    72.60\n",
       "Average    8.47    50.27"
      ]
     },
     "execution_count": 32,
     "metadata": {},
     "output_type": "execute_result"
    }
   ],
   "source": [
    "# Change columns by rows\n",
    "x = set_df.loc['set_br']\n",
    "y = set_df.loc['set_mel']\n",
    "set_df2 = pd.concat([x, y], axis=1)\n",
    "set_df2"
   ]
  },
  {
   "cell_type": "code",
   "execution_count": 33,
   "metadata": {},
   "outputs": [
    {
     "data": {
      "text/html": [
       "<div>\n",
       "<style scoped>\n",
       "    .dataframe tbody tr th:only-of-type {\n",
       "        vertical-align: middle;\n",
       "    }\n",
       "\n",
       "    .dataframe tbody tr th {\n",
       "        vertical-align: top;\n",
       "    }\n",
       "\n",
       "    .dataframe thead th {\n",
       "        text-align: right;\n",
       "    }\n",
       "</style>\n",
       "<table border=\"1\" class=\"dataframe\">\n",
       "  <thead>\n",
       "    <tr style=\"text-align: right;\">\n",
       "      <th>Year</th>\n",
       "      <th>2019</th>\n",
       "      <th>2020</th>\n",
       "      <th>2021</th>\n",
       "      <th>Average</th>\n",
       "    </tr>\n",
       "    <tr>\n",
       "      <th>Month</th>\n",
       "      <th></th>\n",
       "      <th></th>\n",
       "      <th></th>\n",
       "      <th></th>\n",
       "    </tr>\n",
       "  </thead>\n",
       "  <tbody>\n",
       "    <tr>\n",
       "      <th>dec_br</th>\n",
       "      <td>207.8</td>\n",
       "      <td>127.2</td>\n",
       "      <td>228.6</td>\n",
       "      <td>187.87</td>\n",
       "    </tr>\n",
       "    <tr>\n",
       "      <th>dec_mel</th>\n",
       "      <td>4.4</td>\n",
       "      <td>42.6</td>\n",
       "      <td>22.6</td>\n",
       "      <td>23.20</td>\n",
       "    </tr>\n",
       "  </tbody>\n",
       "</table>\n",
       "</div>"
      ],
      "text/plain": [
       "Year      2019   2020   2021  Average\n",
       "Month                                \n",
       "dec_br   207.8  127.2  228.6   187.87\n",
       "dec_mel    4.4   42.6   22.6    23.20"
      ]
     },
     "execution_count": 33,
     "metadata": {},
     "output_type": "execute_result"
    }
   ],
   "source": [
    "# Visualising Rainfall in the month of December\n",
    "dec_df"
   ]
  },
  {
   "cell_type": "code",
   "execution_count": 34,
   "metadata": {},
   "outputs": [
    {
     "data": {
      "text/html": [
       "<div>\n",
       "<style scoped>\n",
       "    .dataframe tbody tr th:only-of-type {\n",
       "        vertical-align: middle;\n",
       "    }\n",
       "\n",
       "    .dataframe tbody tr th {\n",
       "        vertical-align: top;\n",
       "    }\n",
       "\n",
       "    .dataframe thead th {\n",
       "        text-align: right;\n",
       "    }\n",
       "</style>\n",
       "<table border=\"1\" class=\"dataframe\">\n",
       "  <thead>\n",
       "    <tr style=\"text-align: right;\">\n",
       "      <th></th>\n",
       "      <th>dec_br</th>\n",
       "      <th>dec_mel</th>\n",
       "    </tr>\n",
       "    <tr>\n",
       "      <th>Year</th>\n",
       "      <th></th>\n",
       "      <th></th>\n",
       "    </tr>\n",
       "  </thead>\n",
       "  <tbody>\n",
       "    <tr>\n",
       "      <th>2019</th>\n",
       "      <td>207.80</td>\n",
       "      <td>4.4</td>\n",
       "    </tr>\n",
       "    <tr>\n",
       "      <th>2020</th>\n",
       "      <td>127.20</td>\n",
       "      <td>42.6</td>\n",
       "    </tr>\n",
       "    <tr>\n",
       "      <th>2021</th>\n",
       "      <td>228.60</td>\n",
       "      <td>22.6</td>\n",
       "    </tr>\n",
       "    <tr>\n",
       "      <th>Average</th>\n",
       "      <td>187.87</td>\n",
       "      <td>23.2</td>\n",
       "    </tr>\n",
       "  </tbody>\n",
       "</table>\n",
       "</div>"
      ],
      "text/plain": [
       "         dec_br  dec_mel\n",
       "Year                    \n",
       "2019     207.80      4.4\n",
       "2020     127.20     42.6\n",
       "2021     228.60     22.6\n",
       "Average  187.87     23.2"
      ]
     },
     "execution_count": 34,
     "metadata": {},
     "output_type": "execute_result"
    }
   ],
   "source": [
    "# Change columns by rows\n",
    "x = dec_df.loc['dec_br']\n",
    "y = dec_df.loc['dec_mel']\n",
    "dec_df2 = pd.concat([x, y], axis=1)\n",
    "dec_df2"
   ]
  },
  {
   "cell_type": "code",
   "execution_count": 35,
   "metadata": {},
   "outputs": [
    {
     "data": {
      "image/png": "[encoded data removed]",
      "text/plain": [
       "<Figure size 360x216 with 1 Axes>"
      ]
     },
     "metadata": {},
     "output_type": "display_data"
    },
    {
     "data": {
      "image/png": "[encoded data removed]",
      "text/plain": [
       "<Figure size 360x216 with 1 Axes>"
      ]
     },
     "metadata": {},
     "output_type": "display_data"
    }
   ],
   "source": [
    "# Line plot showing amount rainfall in the month of September\n",
    "\n",
    "set_df2.reset_index(inplace=True) # Reset index to plot column 'Year'\n",
    "set_df2.plot(x='Year', y=[\"set_br\", \"set_mel\"], kind=\"line\", figsize=(5, 3),)\n",
    "plt.title(\"Figure6: Average of rainfall in the months of September\",size=10)\n",
    "\n",
    "# Line plot showing amount rainfall in the month of September\n",
    "\n",
    "dec_df2.reset_index(inplace=True) # Reset index to plot column 'Year'\n",
    "dec_df2.plot(x='Year', y=[\"dec_br\", \"dec_mel\"], kind=\"line\", figsize=(5, 3))\n",
    "plt.title(\"Figure6: Average of rainfall in the months of December\",size=10)\n",
    "\n",
    "plt.show()"
   ]
  },
  {
   "cell_type": "markdown",
   "metadata": {},
   "source": [
    "##### **Visualisation:** Analysis 3"
   ]
  },
  {
   "cell_type": "code",
   "execution_count": 36,
   "metadata": {},
   "outputs": [
    {
     "data": {
      "text/html": [
       "<div>\n",
       "<style scoped>\n",
       "    .dataframe tbody tr th:only-of-type {\n",
       "        vertical-align: middle;\n",
       "    }\n",
       "\n",
       "    .dataframe tbody tr th {\n",
       "        vertical-align: top;\n",
       "    }\n",
       "\n",
       "    .dataframe thead th {\n",
       "        text-align: right;\n",
       "    }\n",
       "</style>\n",
       "<table border=\"1\" class=\"dataframe\">\n",
       "  <thead>\n",
       "    <tr style=\"text-align: right;\">\n",
       "      <th></th>\n",
       "      <th>August_2019_Br</th>\n",
       "      <th>August_2019_Mel</th>\n",
       "    </tr>\n",
       "  </thead>\n",
       "  <tbody>\n",
       "    <tr>\n",
       "      <th>0</th>\n",
       "      <td>3.2</td>\n",
       "      <td>77.0</td>\n",
       "    </tr>\n",
       "  </tbody>\n",
       "</table>\n",
       "</div>"
      ],
      "text/plain": [
       "   August_2019_Br  August_2019_Mel\n",
       "0             3.2             77.0"
      ]
     },
     "execution_count": 36,
     "metadata": {},
     "output_type": "execute_result"
    }
   ],
   "source": [
    "data_aug2019"
   ]
  },
  {
   "cell_type": "code",
   "execution_count": 37,
   "metadata": {},
   "outputs": [
    {
     "data": {
      "text/html": [
       "<div>\n",
       "<style scoped>\n",
       "    .dataframe tbody tr th:only-of-type {\n",
       "        vertical-align: middle;\n",
       "    }\n",
       "\n",
       "    .dataframe tbody tr th {\n",
       "        vertical-align: top;\n",
       "    }\n",
       "\n",
       "    .dataframe thead th {\n",
       "        text-align: right;\n",
       "    }\n",
       "</style>\n",
       "<table border=\"1\" class=\"dataframe\">\n",
       "  <thead>\n",
       "    <tr style=\"text-align: right;\">\n",
       "      <th></th>\n",
       "      <th>February_2020_Br</th>\n",
       "      <th>February_2020_Mel</th>\n",
       "    </tr>\n",
       "  </thead>\n",
       "  <tbody>\n",
       "    <tr>\n",
       "      <th>0</th>\n",
       "      <td>365.8</td>\n",
       "      <td>64.3</td>\n",
       "    </tr>\n",
       "  </tbody>\n",
       "</table>\n",
       "</div>"
      ],
      "text/plain": [
       "   February_2020_Br  February_2020_Mel\n",
       "0             365.8               64.3"
      ]
     },
     "execution_count": 37,
     "metadata": {},
     "output_type": "execute_result"
    }
   ],
   "source": [
    "data_feb2020"
   ]
  },
  {
   "cell_type": "code",
   "execution_count": 38,
   "metadata": {},
   "outputs": [
    {
     "data": {
      "image/png": "[encoded data removed]",
      "text/plain": [
       "<Figure size 360x216 with 1 Axes>"
      ]
     },
     "metadata": {},
     "output_type": "display_data"
    },
    {
     "data": {
      "image/png": "[encoded data removed]",
      "text/plain": [
       "<Figure size 360x216 with 1 Axes>"
      ]
     },
     "metadata": {},
     "output_type": "display_data"
    }
   ],
   "source": [
    "# Bar plot August 2019\n",
    "data_aug2019.plot(kind=\"bar\", figsize=(5,3), title=\"Figure7: August 2019: Rainfall_amount Brisbane vs Melbourne\", xlabel=\"August_2019_Br\", ylabel=\"Rainfall (mm)\",\n",
    "               color=['blue', 'darkgrey'])\n",
    "\n",
    "# Bar plot February 2020\n",
    "data_feb2020.plot(kind=\"bar\", figsize=(5,3), title=\"Figure8: February 2020: Rainfall_amount Brisbane vs Melbourne\", xlabel=\"February_2020\", ylabel=\"Rainfall (mm)\",\n",
    "               color=['blue', 'darkgrey'])\n",
    "\n",
    "plt.show()"
   ]
  },
  {
   "cell_type": "markdown",
   "metadata": {},
   "source": [
    "### 5. Insight"
   ]
  },
  {
   "cell_type": "markdown",
   "metadata": {},
   "source": [
    "- It can be inferred that Brisbane and Melbourne are inversely proportional. \n",
    "- The periods of rainfall in Brisbane are more predominant and extreme than Melbourne.\n",
    "- During extreme time of rainfall and dry in Brisbane, Melboune keeps a normal rainfall time.\n",
    "- December can be deemed the rainiest month in Brisbane according to the mean, however, longer and stronger rainfall can be caused on February"
   ]
  }
 ],
 "metadata": {
  "kernelspec": {
   "display_name": "Python 3 (ipykernel)",
   "language": "python",
   "name": "python3"
  },
  "language_info": {
   "codemirror_mode": {
    "name": "ipython",
    "version": 3
   },
   "file_extension": ".py",
   "mimetype": "text/x-python",
   "name": "python",
   "nbconvert_exporter": "python",
   "pygments_lexer": "ipython3",
   "version": "3.9.7"
  }
 },
 "nbformat": 4,
 "nbformat_minor": 4
}
